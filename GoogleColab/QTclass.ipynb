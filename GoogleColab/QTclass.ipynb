{
  "nbformat": 4,
  "nbformat_minor": 0,
  "metadata": {
    "colab": {
      "provenance": [],
      "authorship_tag": "ABX9TyMRB1tMHcT8SFs8loefKIay",
      "include_colab_link": true
    },
    "kernelspec": {
      "name": "python3",
      "display_name": "Python 3"
    },
    "language_info": {
      "name": "python"
    }
  },
  "cells": [
    {
      "cell_type": "markdown",
      "metadata": {
        "id": "view-in-github",
        "colab_type": "text"
      },
      "source": [
        "<a href=\"https://colab.research.google.com/github/ramukjonaM20/Python/blob/main/QTclass.ipynb\" target=\"_parent\"><img src=\"https://colab.research.google.com/assets/colab-badge.svg\" alt=\"Open In Colab\"/></a>"
      ]
    },
    {
      "cell_type": "markdown",
      "source": [],
      "metadata": {
        "id": "ODwel6Luvymd"
      }
    },
    {
      "cell_type": "markdown",
      "source": [
        "**Day 1**. Hello World"
      ],
      "metadata": {
        "id": "Y2tELUOWknGN"
      }
    },
    {
      "cell_type": "code",
      "execution_count": null,
      "metadata": {
        "id": "VhaCy5YtgkW2",
        "colab": {
          "base_uri": "https://localhost:8080/"
        },
        "outputId": "215065b5-03d7-4ace-ea87-8ddd8190d591"
      },
      "outputs": [
        {
          "output_type": "stream",
          "name": "stdout",
          "text": [
            "Hello World\n"
          ]
        }
      ],
      "source": [
        "print('Hello World')"
      ]
    },
    {
      "cell_type": "markdown",
      "source": [
        "Student Marklish"
      ],
      "metadata": {
        "id": "_VNKTJtSlLlW"
      }
    },
    {
      "cell_type": "code",
      "source": [
        "name=input(\"Enter your Name : \")\n",
        "id=int(input(\"Enter ID : \"))\n",
        "mark1=int(input(\"Mark One : \"))\n",
        "mark2=int(input(\"Mark Two : \"))\n",
        "total=mark1+mark2\n",
        "print(total)"
      ],
      "metadata": {
        "id": "E7CVtgntlFti",
        "colab": {
          "base_uri": "https://localhost:8080/"
        },
        "outputId": "e9038d7b-8df2-4e11-8872-92b8a95750c7"
      },
      "execution_count": null,
      "outputs": [
        {
          "output_type": "stream",
          "name": "stdout",
          "text": [
            "Enter your Name : abcd\n",
            "Enter ID : 1234\n",
            "Mark One : 56\n",
            "Mark Two : 78\n",
            "134\n"
          ]
        }
      ]
    },
    {
      "cell_type": "markdown",
      "source": [
        "Hotel Bill"
      ],
      "metadata": {
        "id": "cojbKezbpyds"
      }
    },
    {
      "cell_type": "code",
      "source": [
        "name=input(\"Enter your Name : \")\n",
        "phoneno=int(input (\"Enter Phone number : \"))\n",
        "Dosa_pr=20\n",
        "Itli_pr=10\n",
        "Poori_pr=152\n",
        "D=int(input(\"How many dosa : \"))\n",
        "I=int(input(\"How many Itli : \"))\n",
        "P=int(input(\"How many Poori : \"))\n",
        "Dosa=Dosa_pr*D\n",
        "Itli=Itli_pr*I\n",
        "Poori=Poori_pr*P\n",
        "Total=Dosa+Itli+Poori\n",
        "print(\"--------------------------\")\n",
        "print(\"Welcome to Savravanabavan\")\n",
        "print(\"--------------------------\")\n",
        "print(\"Dosa\",Dosa_pr,\"*\",D,\"=\",Dosa)\n",
        "print(\"Itli\",Itli_pr,\"*\",I,\"=\",Itli)\n",
        "print(\"Poori\",Poori_pr,\"*\",P,\"=\",Poori)\n",
        "print(\"--------------------------\")\n",
        "print(\"Total Amount = \",Total)\n",
        "print(\"--------------------------\")"
      ],
      "metadata": {
        "id": "J-P9U-T6qEgI",
        "colab": {
          "base_uri": "https://localhost:8080/"
        },
        "outputId": "d1ff428a-a38a-4a8e-ad43-94afe96c7d39"
      },
      "execution_count": null,
      "outputs": [
        {
          "output_type": "stream",
          "name": "stdout",
          "text": [
            "Enter your Name : abcd\n",
            "Enter Phone number : 9208\n",
            "How many dosa : 2\n",
            "How many Itli : 2\n",
            "How many Poori : 2\n",
            "--------------------------\n",
            "Welcome to Savravanabavan\n",
            "--------------------------\n",
            "Dosa 20 * 2 = 40\n",
            "Itli 10 * 2 = 20\n",
            "Poori 152 * 2 = 304\n",
            "--------------------------\n",
            "Total Amount =  364\n",
            "--------------------------\n"
          ]
        }
      ]
    },
    {
      "cell_type": "markdown",
      "source": [
        "**Day 2**. if/elif"
      ],
      "metadata": {
        "id": "1ctDirQwq1GD"
      }
    },
    {
      "cell_type": "code",
      "source": [
        "\n",
        "a=int(input(\"Mark1 : \"))\n",
        "b=int(input(\"Mark2 : \"))\n",
        "c=int(input(\"Mark3 : \"))\n",
        "total=a+b+c\n",
        "if total>250:\n",
        "  print(\"Good\")\n",
        "else:\n",
        "  print(\"Not Good\")"
      ],
      "metadata": {
        "id": "txxcDDPArL8c",
        "colab": {
          "base_uri": "https://localhost:8080/"
        },
        "outputId": "bf3fe532-b364-4cd1-f733-08e23922755e"
      },
      "execution_count": null,
      "outputs": [
        {
          "output_type": "stream",
          "name": "stdout",
          "text": [
            "Mark1 : 90\n",
            "Mark2 : 89\n",
            "Mark3 : 91\n",
            "Good\n"
          ]
        }
      ]
    },
    {
      "cell_type": "code",
      "source": [
        "a=int(input(\"Mark1 : \"))\n",
        "b=int(input(\"Mark2 : \"))\n",
        "c=int(input(\"Mark3 : \"))\n",
        "total=a+b+c\n",
        "if total>250:\n",
        "  print(\"A Grade\")\n",
        "elif total<=250 and total>=200:\n",
        "  print(\"B Grade\")\n",
        "else:\n",
        "  print(\"C Grade\")"
      ],
      "metadata": {
        "id": "HoWEyFQfsCIw",
        "colab": {
          "base_uri": "https://localhost:8080/"
        },
        "outputId": "ff7011b4-e057-4c7c-c24e-c7c9953dd5dc"
      },
      "execution_count": null,
      "outputs": [
        {
          "output_type": "stream",
          "name": "stdout",
          "text": [
            "Mark1 : 70\n",
            "Mark2 : 72\n",
            "Mark3 : 75\n",
            "B Grade\n"
          ]
        }
      ]
    },
    {
      "cell_type": "markdown",
      "source": [
        "**Day 3**. Operators"
      ],
      "metadata": {
        "id": "K8fnclS4s1KW"
      }
    },
    {
      "cell_type": "markdown",
      "source": [
        "i.Arithmetic Operators"
      ],
      "metadata": {
        "id": "8j5qcI6StAit"
      }
    },
    {
      "cell_type": "code",
      "source": [
        "a=5\n",
        "b=4\n",
        "add=a+b  #Addition\n",
        "sub=a-b  #Subtraction\n",
        "mul=a*b  #Multiplication\n",
        "div=a/b  #Division\n",
        "mod=a%b  #Modulus\n",
        "exp=a**b #Exponentiation\n",
        "fld=a//b #Floor division\n",
        "print(\"Addition value : \",add)\n",
        "print(\"Subtraction value : \",sub)\n",
        "print(\"Multiplication value : \",mul)\n",
        "print(\"Division value : \",div)\n",
        "print(\"Modulus value : \",mod)\n",
        "print(\"Exponentiation value : \",exp)\n",
        "print(\"Floor division value : \",fld)"
      ],
      "metadata": {
        "id": "2fPb-pc9s-4Z",
        "colab": {
          "base_uri": "https://localhost:8080/"
        },
        "outputId": "315e6057-9f5a-4a2f-c1f4-ae1ffd7809af"
      },
      "execution_count": null,
      "outputs": [
        {
          "output_type": "stream",
          "name": "stdout",
          "text": [
            "Addition value :  9\n",
            "Subtraction value :  1\n",
            "Multiplication value :  20\n",
            "Division value :  1.25\n",
            "Modulus value :  1\n",
            "Exponentiation value :  625\n",
            "Floor division value :  1\n"
          ]
        }
      ]
    },
    {
      "cell_type": "markdown",
      "source": [
        "ii.Relation Operator"
      ],
      "metadata": {
        "id": "6iA1BuhbwCXS"
      }
    },
    {
      "cell_type": "code",
      "source": [
        "a=5\n",
        "b=6\n",
        "print(a==b)\n",
        "print(a!=b)\n",
        "print(a>b)\n",
        "print(a<b)\n",
        "print(a<=b)\n",
        "print(a>=b)"
      ],
      "metadata": {
        "colab": {
          "base_uri": "https://localhost:8080/"
        },
        "id": "VOfBpY0my_Ie",
        "outputId": "7fb8839a-c898-4431-82a9-c378012c4245"
      },
      "execution_count": null,
      "outputs": [
        {
          "output_type": "stream",
          "name": "stdout",
          "text": [
            "False\n",
            "True\n",
            "False\n",
            "True\n",
            "True\n",
            "False\n"
          ]
        }
      ]
    },
    {
      "cell_type": "markdown",
      "source": [
        "iii.Logical Operator"
      ],
      "metadata": {
        "id": "e9AlnwSn9cek"
      }
    },
    {
      "cell_type": "code",
      "source": [
        "#and operator\n",
        "a=int(input(\"Enter a : \"))\n",
        "b=int(input(\"Enter b : \"))\n",
        "c=int(input(\"Enter c : \"))\n",
        "if((a>b)and(a>c)):\n",
        "  print(\"a is Big\")\n",
        "elif((b>c)and(b>a)):\n",
        "  print(\"b is Big\")\n",
        "else:\n",
        "  print(\"c is Big\")\n"
      ],
      "metadata": {
        "id": "7261heWpwG8K",
        "colab": {
          "base_uri": "https://localhost:8080/"
        },
        "outputId": "19ddd104-6c9f-45b7-e355-e1eceb5b5afc"
      },
      "execution_count": null,
      "outputs": [
        {
          "output_type": "stream",
          "name": "stdout",
          "text": [
            "Enter a : 5\n",
            "Enter b : 8\n",
            "Enter c : 6\n",
            "b is Big\n"
          ]
        }
      ]
    },
    {
      "cell_type": "code",
      "source": [
        "#or operator\n",
        "a=5\n",
        "b=-5\n",
        "c=0\n",
        "if a>0 or b>0:\n",
        "  print(\"Either of the number is greater than 0\")\n",
        "else:\n",
        "  print(\"No number is greater than 0\")\n",
        "if b>0 or c>0:\n",
        "  print(\"Either of the number is greater than 0\")\n",
        "else:\n",
        "  print(\"No number is greater than 0\")"
      ],
      "metadata": {
        "id": "FLyyQwc49m19",
        "colab": {
          "base_uri": "https://localhost:8080/"
        },
        "outputId": "baaf7449-7fd7-42c3-e437-624c03583ed2"
      },
      "execution_count": null,
      "outputs": [
        {
          "output_type": "stream",
          "name": "stdout",
          "text": [
            "Either of the number is greater than 0\n",
            "No number is greater than 0\n"
          ]
        }
      ]
    },
    {
      "cell_type": "code",
      "source": [
        "#not operator\n",
        "a = 10\n",
        "if not a:\n",
        "    print(\"Boolean value of a is True\")\n",
        "if not (a%3 == 0 or a%5 == 0):\n",
        "    print(a,\"is not divisible by either 3 or 5\")\n",
        "else:\n",
        "    print(a,\"is divisible by either 3 or 5\")"
      ],
      "metadata": {
        "colab": {
          "base_uri": "https://localhost:8080/"
        },
        "id": "X6o25v9XZ6kU",
        "outputId": "f7365cd7-247d-4062-bf7d-d85c37ff1a9c"
      },
      "execution_count": null,
      "outputs": [
        {
          "output_type": "stream",
          "name": "stdout",
          "text": [
            "10 is divisible by either 3 or 5\n"
          ]
        }
      ]
    },
    {
      "cell_type": "markdown",
      "source": [
        "iv.Membership Operator"
      ],
      "metadata": {
        "id": "J9W0KNvBbiuE"
      }
    },
    {
      "cell_type": "code",
      "source": [
        "#in\n",
        "vowels=['a','e','i','o','u']\n",
        "char=input(\"Please Enter a Character : \")\n",
        "char.lower()\n",
        "if char in vowels:\n",
        "  print(char,\"is a Vowel\")\n",
        "else:\n",
        "  print(char,\"is not a Vowel\")"
      ],
      "metadata": {
        "colab": {
          "base_uri": "https://localhost:8080/"
        },
        "id": "MNlvRkmNcOC4",
        "outputId": "e487b6f7-cf5c-484b-daf4-b64c4c22e5e3"
      },
      "execution_count": null,
      "outputs": [
        {
          "output_type": "stream",
          "name": "stdout",
          "text": [
            "Please Enter a Character : o\n",
            "o is a Vowel\n"
          ]
        }
      ]
    },
    {
      "cell_type": "code",
      "source": [
        "#not in\n",
        "5 not in [5,3,4,2]\n"
      ],
      "metadata": {
        "colab": {
          "base_uri": "https://localhost:8080/"
        },
        "id": "npMHIpf8ggWP",
        "outputId": "145dd9c0-dd22-490c-fec7-6e2a11f8e0de"
      },
      "execution_count": null,
      "outputs": [
        {
          "output_type": "execute_result",
          "data": {
            "text/plain": [
              "False"
            ]
          },
          "metadata": {},
          "execution_count": 44
        }
      ]
    },
    {
      "cell_type": "markdown",
      "source": [
        "v.Identity Operators"
      ],
      "metadata": {
        "id": "0Mx4bAuMg7iU"
      }
    },
    {
      "cell_type": "code",
      "source": [
        "#is\n",
        "x=2\n",
        "y=3\n",
        "print(x is y)\n",
        "id(x)\n",
        "id(y)\n",
        "print(id(x))\n",
        "print(id(y))"
      ],
      "metadata": {
        "colab": {
          "base_uri": "https://localhost:8080/"
        },
        "id": "fRQ8DSauia1P",
        "outputId": "3e25213f-df75-491a-c1e1-01454089b9e9"
      },
      "execution_count": null,
      "outputs": [
        {
          "output_type": "stream",
          "name": "stdout",
          "text": [
            "False\n",
            "134600155152656\n",
            "134600155152688\n"
          ]
        }
      ]
    },
    {
      "cell_type": "code",
      "source": [
        "#is not\n",
        "x=2\n",
        "y=3\n",
        "print(x is not y)\n",
        "id(x)\n",
        "id(y)\n",
        "print(id(x))\n",
        "print(id(y))"
      ],
      "metadata": {
        "colab": {
          "base_uri": "https://localhost:8080/"
        },
        "id": "np8vCjmPjeKJ",
        "outputId": "90802c61-d9dc-4ee6-d865-e746655885f5"
      },
      "execution_count": null,
      "outputs": [
        {
          "output_type": "stream",
          "name": "stdout",
          "text": [
            "True\n",
            "134600155152656\n",
            "134600155152688\n"
          ]
        }
      ]
    },
    {
      "cell_type": "markdown",
      "source": [
        "vi.Assignment Operator"
      ],
      "metadata": {
        "id": "vhwpR1Zrj4e0"
      }
    },
    {
      "cell_type": "code",
      "source": [
        "# +=,-=,*=,/=,%=,//=,**=,&=,|=,^=,>>=,<<=\n",
        "a=10\n",
        "b=2\n",
        "function=input(\"Enter any one of the operator (+,-,*,/,%,//,**,&,|,^,>>,<<)\\n\")\n",
        "if function==\"+\":\n",
        "  a+=b\n",
        "  print('Addition value is : ',a)\n",
        "elif function==\"-\":\n",
        "  a-=b\n",
        "  print('Subtraction value is : ',a)\n",
        "elif function==\"*\":\n",
        "  a*=b\n",
        "  print('Multiplication value is : ',a)\n",
        "elif function==\"/\":\n",
        "  a/=b\n",
        "  print('Division value is : ',a)\n",
        "elif function==\"%\":\n",
        "  a%=b\n",
        "  print('Modulus value is : ',a)\n",
        "elif function==\"//\":\n",
        "  a//=b\n",
        "  print('Floor Division value is : ',a)\n",
        "elif function==\"**\":\n",
        "  a**=b\n",
        "  print('Power value is : ',a)\n",
        "elif function==\"&\":\n",
        "  a&=b\n",
        "  print('AND operator value is : ',a)\n",
        "elif function==\"|\":\n",
        "  a|=b\n",
        "  print('OR operator value',a)\n",
        "elif function==\"^\":\n",
        "  a^=b\n",
        "  print('XOR operator value',a)\n",
        "elif function==\">>\":\n",
        "  a>>=b\n",
        "  print('right shift on operands',a)\n",
        "elif function==\"<<\":\n",
        "  a<<=b\n",
        "  print('left shift on operands',a)\n",
        "else:\n",
        "  pass\n",
        "\n",
        "\n"
      ],
      "metadata": {
        "colab": {
          "base_uri": "https://localhost:8080/"
        },
        "id": "eP51NLVNkAS1",
        "outputId": "b145fdea-14a3-4c63-e5d7-5fc7f8cb255a"
      },
      "execution_count": null,
      "outputs": [
        {
          "output_type": "stream",
          "name": "stdout",
          "text": [
            "Enter any one of the operator (+,-,*,/,%,//,**,&,|,^,>>,<<)\n",
            "**\n",
            "Power value is :  100\n"
          ]
        }
      ]
    },
    {
      "cell_type": "markdown",
      "source": [
        "**Day 4**. Data Types"
      ],
      "metadata": {
        "id": "nKWAZJfezPLa"
      }
    },
    {
      "cell_type": "markdown",
      "source": [
        "i.Numeric Data\n",
        "*   Integer\n",
        "*   Float\n",
        "*   Complex"
      ],
      "metadata": {
        "id": "5Y3jbWqZ0Rzx"
      }
    },
    {
      "cell_type": "code",
      "source": [
        "a=5\n",
        "print(\"Type of a is :\",type(a))\n",
        "b=5.2\n",
        "print(\"Type of b is :\",type(b))\n",
        "c=1+2j\n",
        "print(\"Type of c is :\",type(c))"
      ],
      "metadata": {
        "colab": {
          "base_uri": "https://localhost:8080/"
        },
        "id": "_AZcmXKWzOoF",
        "outputId": "30ac1d64-8b6b-40af-8b81-d953fe4e8dca"
      },
      "execution_count": null,
      "outputs": [
        {
          "output_type": "stream",
          "name": "stdout",
          "text": [
            "Type of a is : <class 'int'>\n",
            "Type of b is : <class 'float'>\n",
            "Type of c is : <class 'complex'>\n"
          ]
        }
      ]
    },
    {
      "cell_type": "markdown",
      "source": [
        "ii.Sequence Data\n",
        "*   List\n",
        "*   Tuple\n",
        "*   String"
      ],
      "metadata": {
        "id": "dZp7xoCT2nwI"
      }
    },
    {
      "cell_type": "code",
      "source": [
        "#list\n",
        "a=[5,5.2,\"man\",False,2+3j]\n",
        "print(type(a)) #used to identify the type of a\n",
        "print(a)\n",
        "print(\"Length of a is \",len(a)) #used to identify the lenght of a\n",
        "print(a[1]) #list is indexable\n",
        "print(a[-2]) #indexing is possible in both left to right and right to left\n",
        "a.append(70) #used to add values in list\n",
        "print(a)\n",
        "a.append([3,4,5]) #Nested List is allowed\n",
        "print(a)\n",
        "a.extend([3,4,5])  #Adding multiple value in the list is possible\n",
        "print(a)\n",
        "a.insert(5,\"world\") #Insert a value in the middle of the list using index number\n",
        "print(a)\n",
        "print(a.pop(7)) #pop is used to take any value from a list using index\n",
        "print(a)\n",
        "a.remove('world') #remove is used to remove a value from a list\n",
        "print(a)\n",
        "a.reverse() #reverse function is used to reverse a list\n",
        "print(a)\n",
        "a.reverse()\n",
        "print(a)\n",
        "a.clear()\n",
        "print(a)\n",
        "b=[5,11,2,21,9,1,4]\n",
        "b.sort()\n",
        "print(b)"
      ],
      "metadata": {
        "colab": {
          "base_uri": "https://localhost:8080/"
        },
        "id": "jg9zDniB2od8",
        "outputId": "f186d37c-e5e2-4365-98ac-63291cb41afa"
      },
      "execution_count": null,
      "outputs": [
        {
          "output_type": "stream",
          "name": "stdout",
          "text": [
            "<class 'list'>\n",
            "[5, 5.2, 'man', False, (2+3j)]\n",
            "Length of a is  5\n",
            "5.2\n",
            "False\n",
            "[5, 5.2, 'man', False, (2+3j), 70]\n",
            "[5, 5.2, 'man', False, (2+3j), 70, [3, 4, 5]]\n",
            "[5, 5.2, 'man', False, (2+3j), 70, [3, 4, 5], 3, 4, 5]\n",
            "[5, 5.2, 'man', False, (2+3j), 'world', 70, [3, 4, 5], 3, 4, 5]\n",
            "[3, 4, 5]\n",
            "[5, 5.2, 'man', False, (2+3j), 'world', 70, 3, 4, 5]\n",
            "[5, 5.2, 'man', False, (2+3j), 70, 3, 4, 5]\n",
            "[5, 4, 3, 70, (2+3j), False, 'man', 5.2, 5]\n",
            "[5, 5.2, 'man', False, (2+3j), 70, 3, 4, 5]\n",
            "[]\n",
            "[1, 2, 4, 5, 9, 11, 21]\n"
          ]
        }
      ]
    }
  ]
}
